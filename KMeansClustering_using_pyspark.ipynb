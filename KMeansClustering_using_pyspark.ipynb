{
 "cells": [
  {
   "cell_type": "markdown",
   "metadata": {},
   "source": [
    "## Importing required packages and initializing Spark session"
   ]
  },
  {
   "cell_type": "code",
   "execution_count": 1,
   "metadata": {},
   "outputs": [],
   "source": [
    "import findspark\n",
    "findspark.init()"
   ]
  },
  {
   "cell_type": "code",
   "execution_count": 2,
   "metadata": {},
   "outputs": [],
   "source": [
    "import pyspark\n",
    "from pyspark import SparkContext, SparkConf\n",
    "from pyspark.sql.session import SparkSession"
   ]
  },
  {
   "cell_type": "code",
   "execution_count": 3,
   "metadata": {},
   "outputs": [],
   "source": [
    "from pyspark.ml.clustering import KMeans\n",
    "from pyspark.ml.feature import VectorAssembler\n",
    "import numpy as np\n",
    "import pandas as pd\n",
    "import matplotlib.pyplot as plt"
   ]
  },
  {
   "cell_type": "code",
   "execution_count": 4,
   "metadata": {},
   "outputs": [],
   "source": [
    "sc = SparkContext.getOrCreate()\n",
    "spark = SparkSession(sc)"
   ]
  },
  {
   "cell_type": "markdown",
   "metadata": {},
   "source": [
    "## Reading data"
   ]
  },
  {
   "cell_type": "code",
   "execution_count": 5,
   "metadata": {},
   "outputs": [],
   "source": [
    "df = spark.read.format(\"csv\").option(\"header\", \"true\").load(\"./Uber-dataset/uber-raw-data-apr14.csv\")"
   ]
  },
  {
   "cell_type": "code",
   "execution_count": 6,
   "metadata": {},
   "outputs": [
    {
     "name": "stdout",
     "output_type": "stream",
     "text": [
      "+----------------+-------+--------+------+\n",
      "|       Date/Time|    Lat|     Lon|  Base|\n",
      "+----------------+-------+--------+------+\n",
      "|4/1/2014 0:11:00| 40.769|-73.9549|B02512|\n",
      "|4/1/2014 0:17:00|40.7267|-74.0345|B02512|\n",
      "|4/1/2014 0:21:00|40.7316|-73.9873|B02512|\n",
      "|4/1/2014 0:28:00|40.7588|-73.9776|B02512|\n",
      "|4/1/2014 0:33:00|40.7594|-73.9722|B02512|\n",
      "+----------------+-------+--------+------+\n",
      "only showing top 5 rows\n",
      "\n"
     ]
    }
   ],
   "source": [
    "df.show(5)"
   ]
  },
  {
   "cell_type": "markdown",
   "metadata": {},
   "source": [
    "## Extracting the columns 'Lat' and 'Lon' which further undergo clustering"
   ]
  },
  {
   "cell_type": "code",
   "execution_count": 7,
   "metadata": {},
   "outputs": [
    {
     "name": "stdout",
     "output_type": "stream",
     "text": [
      "+-------+--------+\n",
      "|    Lat|     Lon|\n",
      "+-------+--------+\n",
      "| 40.769|-73.9549|\n",
      "|40.7267|-74.0345|\n",
      "|40.7316|-73.9873|\n",
      "|40.7588|-73.9776|\n",
      "|40.7594|-73.9722|\n",
      "+-------+--------+\n",
      "only showing top 5 rows\n",
      "\n"
     ]
    }
   ],
   "source": [
    "clus_df = df.selectExpr(\"cast(Lat as float) Lat\",\"cast(Lon as float) Lon\")\n",
    "clus_df.show(5)"
   ]
  },
  {
   "cell_type": "markdown",
   "metadata": {},
   "source": [
    "## Combining the 'Lat' and 'Lon' columns to form 'features' column"
   ]
  },
  {
   "cell_type": "code",
   "execution_count": 8,
   "metadata": {},
   "outputs": [],
   "source": [
    "vecAssembler = VectorAssembler(inputCols=[\"Lat\", \"Lon\"], outputCol=\"features\")\n",
    "clus_df = vecAssembler.transform(clus_df)"
   ]
  },
  {
   "cell_type": "code",
   "execution_count": 9,
   "metadata": {},
   "outputs": [
    {
     "name": "stdout",
     "output_type": "stream",
     "text": [
      "+------+--------+--------------------+\n",
      "|   Lat|     Lon|            features|\n",
      "+------+--------+--------------------+\n",
      "|40.769|-73.9549|[40.7690010070800...|\n",
      "+------+--------+--------------------+\n",
      "only showing top 1 row\n",
      "\n"
     ]
    }
   ],
   "source": [
    "clus_df.show(1)"
   ]
  },
  {
   "cell_type": "markdown",
   "metadata": {},
   "source": [
    "## Finding the optimal value for 'k' using 'elbow method'"
   ]
  },
  {
   "cell_type": "code",
   "execution_count": 10,
   "metadata": {},
   "outputs": [],
   "source": [
    "cost = [0]\n",
    "\n",
    "for k in range(2,11):\n",
    "    kmeans = KMeans().setK(k).setSeed(1).setFeaturesCol(\"features\")\n",
    "    model = kmeans.fit(clus_df)\n",
    "    cost.append(model.computeCost(clus_df))"
   ]
  },
  {
   "cell_type": "code",
   "execution_count": 11,
   "metadata": {},
   "outputs": [
    {
     "data": {
      "text/plain": [
       "[0,\n",
       " 1355.9504299227885,\n",
       " 1023.1596339309003,\n",
       " 910.2501394254429,\n",
       " 697.4620291501898,\n",
       " 639.4252562144128,\n",
       " 409.00272506492246,\n",
       " 531.8033392656347,\n",
       " 391.2912305837879,\n",
       " 378.21660283458726]"
      ]
     },
     "execution_count": 11,
     "metadata": {},
     "output_type": "execute_result"
    }
   ],
   "source": [
    "cost"
   ]
  },
  {
   "cell_type": "code",
   "execution_count": 12,
   "metadata": {},
   "outputs": [
    {
     "data": {
      "image/png": "[encoded data removed]",
      "text/plain": [
       "<Figure size 432x288 with 1 Axes>"
      ]
     },
     "metadata": {
      "needs_background": "light"
     },
     "output_type": "display_data"
    }
   ],
   "source": [
    "import matplotlib.pyplot as plt\n",
    "\n",
    "plt.plot(range(1,11), cost)\n",
    "plt.title('The Elbow Method')\n",
    "plt.xlabel('Number of clusters')\n",
    "plt.ylabel('WCSS')\n",
    "plt.show()"
   ]
  },
  {
   "cell_type": "markdown",
   "metadata": {},
   "source": [
    "## From the above plot of elbow method, it is chosen that k=6\n",
    "## Training the KMeans model over the dataset"
   ]
  },
  {
   "cell_type": "code",
   "execution_count": 13,
   "metadata": {},
   "outputs": [],
   "source": [
    "kmeans = KMeans(k=6, seed=1)\n",
    "kmeans_model = kmeans.fit(clus_df.select(\"features\"))"
   ]
  },
  {
   "cell_type": "code",
   "execution_count": 14,
   "metadata": {},
   "outputs": [
    {
     "name": "stdout",
     "output_type": "stream",
     "text": [
      "+-------+--------+--------------------+----------+\n",
      "|    Lat|     Lon|            features|prediction|\n",
      "+-------+--------+--------------------+----------+\n",
      "| 40.769|-73.9549|[40.7690010070800...|         3|\n",
      "|40.7267|-74.0345|[40.7266998291015...|         0|\n",
      "|40.7316|-73.9873|[40.7316017150878...|         0|\n",
      "|40.7588|-73.9776|[40.7588005065918...|         4|\n",
      "|40.7594|-73.9722|[40.7593994140625...|         4|\n",
      "|40.7383|-74.0403|[40.7383003234863...|         0|\n",
      "|40.7223|-73.9887|[40.7223014831543...|         0|\n",
      "| 40.762| -73.979|[40.7620010375976...|         4|\n",
      "|40.7524| -73.996|[40.7523994445800...|         4|\n",
      "|40.7575|-73.9846|[40.7574996948242...|         4|\n",
      "|40.7256|-73.9869|[40.7256011962890...|         0|\n",
      "|40.7591|-73.9684|[40.7591018676757...|         4|\n",
      "|40.7271|-73.9803|[40.7271003723144...|         4|\n",
      "|40.6463|-73.7896|[40.6463012695312...|         1|\n",
      "|40.7564|-73.9167|[40.7564010620117...|         3|\n",
      "|40.7666|-73.9531|[40.7666015625,-7...|         3|\n",
      "| 40.758|-73.9761|[40.7579994201660...|         4|\n",
      "|40.7238|-73.9821|[40.7238006591796...|         0|\n",
      "|40.7531|-74.0039|[40.7531013488769...|         4|\n",
      "|40.7389|-74.0393|[40.7388992309570...|         0|\n",
      "+-------+--------+--------------------+----------+\n",
      "only showing top 20 rows\n",
      "\n"
     ]
    }
   ],
   "source": [
    "clus_df = kmeans_model.transform(clus_df)\n",
    "clus_df.show()"
   ]
  },
  {
   "cell_type": "markdown",
   "metadata": {},
   "source": [
    "## Getting the centroid of each cluster and plotting them "
   ]
  },
  {
   "cell_type": "code",
   "execution_count": 15,
   "metadata": {},
   "outputs": [
    {
     "data": {
      "text/plain": [
       "[array([ 40.72473483, -74.00730999]),\n",
       " array([ 40.65807628, -73.77421418]),\n",
       " array([ 40.79478525, -73.8597065 ]),\n",
       " array([ 40.78053098, -73.95947686]),\n",
       " array([ 40.75305274, -73.98313497]),\n",
       " array([ 40.68814104, -73.9637823 ])]"
      ]
     },
     "execution_count": 15,
     "metadata": {},
     "output_type": "execute_result"
    }
   ],
   "source": [
    "clus_centers = kmeans_model.clusterCenters()\n",
    "clus_centers"
   ]
  },
  {
   "cell_type": "code",
   "execution_count": 16,
   "metadata": {},
   "outputs": [],
   "source": [
    "x_center = []\n",
    "y_center = []\n",
    "for center in clus_centers:\n",
    "    x_center.append(center[0])\n",
    "    y_center.append(center[1])"
   ]
  },
  {
   "cell_type": "code",
   "execution_count": 17,
   "metadata": {},
   "outputs": [
    {
     "data": {
      "image/png": "[encoded data removed]",
      "text/plain": [
       "<Figure size 432x288 with 1 Axes>"
      ]
     },
     "metadata": {
      "needs_background": "light"
     },
     "output_type": "display_data"
    }
   ],
   "source": [
    "plt.scatter(x_center, y_center)\n",
    "plt.title('centroids of clusters')\n",
    "plt.xlabel('x-coordinate')\n",
    "plt.ylabel('y-coordinate')\n",
    "plt.show()"
   ]
  },
  {
   "cell_type": "markdown",
   "metadata": {},
   "source": [
    "## Visualizing the centroids using a real world map as the datapoints represent different locations in New York city"
   ]
  },
  {
   "cell_type": "code",
   "execution_count": 18,
   "metadata": {},
   "outputs": [],
   "source": [
    "import folium"
   ]
  },
  {
   "cell_type": "code",
   "execution_count": 19,
   "metadata": {},
   "outputs": [
    {
     "data": {
      "text/html": [
       "<div>\n",
       "<style scoped>\n",
       "    .dataframe tbody tr th:only-of-type {\n",
       "        vertical-align: middle;\n",
       "    }\n",
       "\n",
       "    .dataframe tbody tr th {\n",
       "        vertical-align: top;\n",
       "    }\n",
       "\n",
       "    .dataframe thead th {\n",
       "        text-align: right;\n",
       "    }\n",
       "</style>\n",
       "<table border=\"1\" class=\"dataframe\">\n",
       "  <thead>\n",
       "    <tr style=\"text-align: right;\">\n",
       "      <th></th>\n",
       "      <th>0</th>\n",
       "      <th>1</th>\n",
       "    </tr>\n",
       "  </thead>\n",
       "  <tbody>\n",
       "    <tr>\n",
       "      <th>0</th>\n",
       "      <td>40.724735</td>\n",
       "      <td>-74.007310</td>\n",
       "    </tr>\n",
       "    <tr>\n",
       "      <th>1</th>\n",
       "      <td>40.658076</td>\n",
       "      <td>-73.774214</td>\n",
       "    </tr>\n",
       "    <tr>\n",
       "      <th>2</th>\n",
       "      <td>40.794785</td>\n",
       "      <td>-73.859706</td>\n",
       "    </tr>\n",
       "    <tr>\n",
       "      <th>3</th>\n",
       "      <td>40.780531</td>\n",
       "      <td>-73.959477</td>\n",
       "    </tr>\n",
       "    <tr>\n",
       "      <th>4</th>\n",
       "      <td>40.753053</td>\n",
       "      <td>-73.983135</td>\n",
       "    </tr>\n",
       "    <tr>\n",
       "      <th>5</th>\n",
       "      <td>40.688141</td>\n",
       "      <td>-73.963782</td>\n",
       "    </tr>\n",
       "  </tbody>\n",
       "</table>\n",
       "</div>"
      ],
      "text/plain": [
       "           0          1\n",
       "0  40.724735 -74.007310\n",
       "1  40.658076 -73.774214\n",
       "2  40.794785 -73.859706\n",
       "3  40.780531 -73.959477\n",
       "4  40.753053 -73.983135\n",
       "5  40.688141 -73.963782"
      ]
     },
     "execution_count": 19,
     "metadata": {},
     "output_type": "execute_result"
    }
   ],
   "source": [
    "clus_centers = pd.DataFrame(list(map(np.ravel, clus_centers)))\n",
    "clus_centers"
   ]
  },
  {
   "cell_type": "code",
   "execution_count": 20,
   "metadata": {},
   "outputs": [
    {
     "data": {
      "text/html": [
       "<div style=\"width:100%;\"><div style=\"position:relative;width:100%;height:0;padding-bottom:60%;\"><span style=\"color:#565656\">Make this Notebook Trusted to load map: File -> Trust Notebook</span><iframe src=\"about:blank\" style=\"position:absolute;width:100%;height:100%;left:0;top:0;border:none !important;\" data-html=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 onload=\"this.contentDocument.open();this.contentDocument.write(atob(this.getAttribute('data-html')));this.contentDocument.close();\" allowfullscreen webkitallowfullscreen mozallowfullscreen></iframe></div></div>"
      ],
      "text/plain": [
       "<folium.folium.Map at 0x7fc339af4390>"
      ]
     },
     "execution_count": 20,
     "metadata": {},
     "output_type": "execute_result"
    }
   ],
   "source": [
    "centroids = clus_centers.values.tolist()\n",
    "\n",
    "map = folium.Map(location=[40.688142,-73.963783], zoom_start=25)\n",
    "for point in range(0, len(centroids)):\n",
    "    folium.Marker(centroids[point], popup=centroids[point]).add_to(map)\n",
    "map"
   ]
  },
  {
   "cell_type": "markdown",
   "metadata": {},
   "source": [
    "## Getting the count of number of datapoints in each cluster and visualizing it"
   ]
  },
  {
   "cell_type": "code",
   "execution_count": 21,
   "metadata": {},
   "outputs": [],
   "source": [
    "predictions = np.array(clus_df.select(\"prediction\").collect()).reshape(-1)\n",
    "count = np.zeros(6)\n",
    "for point in predictions:\n",
    "    if(point==0):\n",
    "        count[0]+=1\n",
    "    elif(point==1):\n",
    "        count[1]+=1;\n",
    "    elif(point==2):\n",
    "        count[2]+=1\n",
    "    elif(point==3):\n",
    "        count[3]+=1\n",
    "    elif(point==4):\n",
    "        count[4]+=1\n",
    "    else:\n",
    "        count[5]+=1"
   ]
  },
  {
   "cell_type": "code",
   "execution_count": 22,
   "metadata": {},
   "outputs": [
    {
     "data": {
      "text/plain": [
       "array([181982.,  14209.,  16931.,  77250., 217565.,  56579.])"
      ]
     },
     "execution_count": 22,
     "metadata": {},
     "output_type": "execute_result"
    }
   ],
   "source": [
    "count"
   ]
  },
  {
   "cell_type": "code",
   "execution_count": 23,
   "metadata": {},
   "outputs": [
    {
     "data": {
      "image/png": "[encoded data removed]",
      "text/plain": [
       "<Figure size 432x288 with 1 Axes>"
      ]
     },
     "metadata": {
      "needs_background": "light"
     },
     "output_type": "display_data"
    }
   ],
   "source": [
    "plt.bar(np.arange(len(count)), count)\n",
    "plt.xlabel(\"cluster#\")\n",
    "plt.ylabel(\"count\")\n",
    "plt.title(\"#datapoints in each cluster\")\n",
    "plt.show()"
   ]
  },
  {
   "cell_type": "code",
   "execution_count": null,
   "metadata": {},
   "outputs": [],
   "source": []
  }
 ],
 "metadata": {
  "kernelspec": {
   "display_name": "Python 3",
   "language": "python",
   "name": "python3"
  },
  "language_info": {
   "codemirror_mode": {
    "name": "ipython",
    "version": 3
   },
   "file_extension": ".py",
   "mimetype": "text/x-python",
   "name": "python",
   "nbconvert_exporter": "python",
   "pygments_lexer": "ipython3",
   "version": "3.7.6"
  }
 },
 "nbformat": 4,
 "nbformat_minor": 4
}
